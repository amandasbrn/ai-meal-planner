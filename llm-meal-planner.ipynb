{
 "cells": [
  {
   "cell_type": "code",
   "execution_count": 1,
   "metadata": {},
   "outputs": [
    {
     "name": "stdout",
     "output_type": "stream",
     "text": [
      "Requirement already satisfied: google-genai in /Library/Frameworks/Python.framework/Versions/3.11/lib/python3.11/site-packages (1.9.0)\n",
      "Requirement already satisfied: anyio<5.0.0,>=4.8.0 in /Library/Frameworks/Python.framework/Versions/3.11/lib/python3.11/site-packages (from google-genai) (4.9.0)\n",
      "Requirement already satisfied: google-auth<3.0.0,>=2.14.1 in /Library/Frameworks/Python.framework/Versions/3.11/lib/python3.11/site-packages (from google-genai) (2.33.0)\n",
      "Requirement already satisfied: httpx<1.0.0,>=0.28.1 in /Library/Frameworks/Python.framework/Versions/3.11/lib/python3.11/site-packages (from google-genai) (0.28.1)\n",
      "Requirement already satisfied: pydantic<3.0.0,>=2.0.0 in /Library/Frameworks/Python.framework/Versions/3.11/lib/python3.11/site-packages (from google-genai) (2.8.2)\n",
      "Requirement already satisfied: requests<3.0.0,>=2.28.1 in /Library/Frameworks/Python.framework/Versions/3.11/lib/python3.11/site-packages (from google-genai) (2.32.3)\n",
      "Requirement already satisfied: websockets<15.1.0,>=13.0.0 in /Library/Frameworks/Python.framework/Versions/3.11/lib/python3.11/site-packages (from google-genai) (15.0.1)\n",
      "Requirement already satisfied: typing-extensions<5.0.0,>=4.11.0 in /Users/diraamanda/Library/Python/3.11/lib/python/site-packages (from google-genai) (4.12.2)\n",
      "Requirement already satisfied: idna>=2.8 in /Library/Frameworks/Python.framework/Versions/3.11/lib/python3.11/site-packages (from anyio<5.0.0,>=4.8.0->google-genai) (3.7)\n",
      "Requirement already satisfied: sniffio>=1.1 in /Library/Frameworks/Python.framework/Versions/3.11/lib/python3.11/site-packages (from anyio<5.0.0,>=4.8.0->google-genai) (1.3.1)\n",
      "Requirement already satisfied: cachetools<6.0,>=2.0.0 in /Library/Frameworks/Python.framework/Versions/3.11/lib/python3.11/site-packages (from google-auth<3.0.0,>=2.14.1->google-genai) (5.4.0)\n",
      "Requirement already satisfied: pyasn1-modules>=0.2.1 in /Library/Frameworks/Python.framework/Versions/3.11/lib/python3.11/site-packages (from google-auth<3.0.0,>=2.14.1->google-genai) (0.4.0)\n",
      "Requirement already satisfied: rsa<5,>=3.1.4 in /Library/Frameworks/Python.framework/Versions/3.11/lib/python3.11/site-packages (from google-auth<3.0.0,>=2.14.1->google-genai) (4.9)\n",
      "Requirement already satisfied: certifi in /Library/Frameworks/Python.framework/Versions/3.11/lib/python3.11/site-packages (from httpx<1.0.0,>=0.28.1->google-genai) (2024.7.4)\n",
      "Requirement already satisfied: httpcore==1.* in /Library/Frameworks/Python.framework/Versions/3.11/lib/python3.11/site-packages (from httpx<1.0.0,>=0.28.1->google-genai) (1.0.5)\n",
      "Requirement already satisfied: h11<0.15,>=0.13 in /Library/Frameworks/Python.framework/Versions/3.11/lib/python3.11/site-packages (from httpcore==1.*->httpx<1.0.0,>=0.28.1->google-genai) (0.14.0)\n",
      "Requirement already satisfied: annotated-types>=0.4.0 in /Library/Frameworks/Python.framework/Versions/3.11/lib/python3.11/site-packages (from pydantic<3.0.0,>=2.0.0->google-genai) (0.7.0)\n",
      "Requirement already satisfied: pydantic-core==2.20.1 in /Library/Frameworks/Python.framework/Versions/3.11/lib/python3.11/site-packages (from pydantic<3.0.0,>=2.0.0->google-genai) (2.20.1)\n",
      "Requirement already satisfied: charset-normalizer<4,>=2 in /Library/Frameworks/Python.framework/Versions/3.11/lib/python3.11/site-packages (from requests<3.0.0,>=2.28.1->google-genai) (3.3.2)\n",
      "Requirement already satisfied: urllib3<3,>=1.21.1 in /Library/Frameworks/Python.framework/Versions/3.11/lib/python3.11/site-packages (from requests<3.0.0,>=2.28.1->google-genai) (2.2.2)\n",
      "Requirement already satisfied: pyasn1<0.7.0,>=0.4.6 in /Library/Frameworks/Python.framework/Versions/3.11/lib/python3.11/site-packages (from pyasn1-modules>=0.2.1->google-auth<3.0.0,>=2.14.1->google-genai) (0.6.0)\n",
      "\n",
      "\u001b[1m[\u001b[0m\u001b[34;49mnotice\u001b[0m\u001b[1;39;49m]\u001b[0m\u001b[39;49m A new release of pip is available: \u001b[0m\u001b[31;49m24.3.1\u001b[0m\u001b[39;49m -> \u001b[0m\u001b[32;49m25.0.1\u001b[0m\n",
      "\u001b[1m[\u001b[0m\u001b[34;49mnotice\u001b[0m\u001b[1;39;49m]\u001b[0m\u001b[39;49m To update, run: \u001b[0m\u001b[32;49mpip install --upgrade pip\u001b[0m\n",
      "Note: you may need to restart the kernel to use updated packages.\n",
      "Requirement already satisfied: python-dotenv in /Library/Frameworks/Python.framework/Versions/3.11/lib/python3.11/site-packages (1.0.1)\n",
      "\n",
      "\u001b[1m[\u001b[0m\u001b[34;49mnotice\u001b[0m\u001b[1;39;49m]\u001b[0m\u001b[39;49m A new release of pip is available: \u001b[0m\u001b[31;49m24.3.1\u001b[0m\u001b[39;49m -> \u001b[0m\u001b[32;49m25.0.1\u001b[0m\n",
      "\u001b[1m[\u001b[0m\u001b[34;49mnotice\u001b[0m\u001b[1;39;49m]\u001b[0m\u001b[39;49m To update, run: \u001b[0m\u001b[32;49mpip install --upgrade pip\u001b[0m\n",
      "Note: you may need to restart the kernel to use updated packages.\n",
      "\u001b[31mERROR: pip's dependency resolver does not currently take into account all the packages that are installed. This behaviour is the source of the following dependency conflicts.\n",
      "langchain 0.2.14 requires langchain-core<0.3.0,>=0.2.32, but you have langchain-core 0.3.51 which is incompatible.\n",
      "langchain 0.2.14 requires langsmith<0.2.0,>=0.1.17, but you have langsmith 0.3.31 which is incompatible.\n",
      "google-generativeai 0.7.2 requires google-ai-generativelanguage==0.6.6, but you have google-ai-generativelanguage 0.6.17 which is incompatible.\n",
      "langchain-text-splitters 0.2.2 requires langchain-core<0.3.0,>=0.2.10, but you have langchain-core 0.3.51 which is incompatible.\n",
      "langchain-google-community 1.0.7 requires langchain-core<0.3,>=0.2.9, but you have langchain-core 0.3.51 which is incompatible.\n",
      "langchain-community 0.2.12 requires langchain-core<0.3.0,>=0.2.30, but you have langchain-core 0.3.51 which is incompatible.\n",
      "langchain-community 0.2.12 requires langsmith<0.2.0,>=0.1.0, but you have langsmith 0.3.31 which is incompatible.\u001b[0m\u001b[31m\n",
      "\u001b[0m\n",
      "\u001b[1m[\u001b[0m\u001b[34;49mnotice\u001b[0m\u001b[1;39;49m]\u001b[0m\u001b[39;49m A new release of pip is available: \u001b[0m\u001b[31;49m24.3.1\u001b[0m\u001b[39;49m -> \u001b[0m\u001b[32;49m25.0.1\u001b[0m\n",
      "\u001b[1m[\u001b[0m\u001b[34;49mnotice\u001b[0m\u001b[1;39;49m]\u001b[0m\u001b[39;49m To update, run: \u001b[0m\u001b[32;49mpip install --upgrade pip\u001b[0m\n",
      "Note: you may need to restart the kernel to use updated packages.\n"
     ]
    }
   ],
   "source": [
    "%pip install google-genai\n",
    "%pip install python-dotenv\n",
    "%pip install -qU langchain-google-genai"
   ]
  },
  {
   "cell_type": "code",
   "execution_count": null,
   "metadata": {},
   "outputs": [],
   "source": [
    "from langchain_google_genai import ChatGoogleGenerativeAI\n",
    "from langchain_core.prompts import ChatPromptTemplate\n",
    "from langchain_core.output_parsers import StrOutputParser\n",
    "from langchain.chat_models import init_chat_model\n",
    "from vertexai.generative_models import \n",
    "from dotenv import load_dotenv\n",
    "import os"
   ]
  },
  {
   "cell_type": "code",
   "execution_count": 4,
   "metadata": {},
   "outputs": [
    {
     "name": "stderr",
     "output_type": "stream",
     "text": [
      "WARNING: All log messages before absl::InitializeLog() is called are written to STDERR\n",
      "I0000 00:00:1744684269.300838 5116370 check_gcp_environment_no_op.cc:29] ALTS: Platforms other than Linux and Windows are not supported\n"
     ]
    }
   ],
   "source": [
    "load_dotenv()  # Load environment variables from .env file\n",
    "\n",
    "api_token = os.getenv('api_key')\n",
    "\n",
    "if not api_token:\n",
    "    raise ValueError(\"No API token found. Check your .env file.\")\n",
    "\n",
    "llm = ChatGoogleGenerativeAI(\n",
    "    model=\"gemini-2.0-flash\",\n",
    "    api_key=api_token\n",
    "    )"
   ]
  },
  {
   "cell_type": "code",
   "execution_count": 42,
   "metadata": {},
   "outputs": [],
   "source": [
    "num_of_days = 3\n",
    "messages = [\n",
    "    (\n",
    "        \"system\",\n",
    "        \"You are an AI-based meal planner to help me, a university student, plan and cook my nutritious meals while also saving money.\" ,\n",
    "    ),\n",
    "    (\"human\", f\"please make me a {num_of_days} days meal plan for breakfast, lunch, and dinner. Note: just make me a meal plan.\"),\n",
    "]\n",
    "ai_msg = llm.invoke(messages)"
   ]
  },
  {
   "cell_type": "code",
   "execution_count": 43,
   "metadata": {},
   "outputs": [
    {
     "name": "stdout",
     "output_type": "stream",
     "text": [
      "Okay, here's a 3-day meal plan focusing on affordability and nutrition for a university student:\n",
      "\n",
      "**Day 1:**\n",
      "\n",
      "*   **Breakfast:** Oatmeal with banana and a sprinkle of cinnamon.\n",
      "*   **Lunch:** Leftover Chickpea Curry (from dinner on Day 3).\n",
      "*   **Dinner:** Lentil Soup (made with red lentils, carrots, celery, onion, garlic, and vegetable broth). Serve with a slice of whole-wheat bread.\n",
      "\n",
      "**Day 2:**\n",
      "\n",
      "*   **Breakfast:** Greek yogurt with berries (frozen are cheaper) and a drizzle of honey.\n",
      "*   **Lunch:** Tuna Salad Sandwich on whole-wheat bread (tuna canned in water, mixed with a little mayo, celery, and onion).\n",
      "*   **Dinner:** Pasta with Marinara Sauce (use canned crushed tomatoes, garlic, and herbs for a budget-friendly sauce). Add some frozen spinach for extra nutrients.\n",
      "\n",
      "**Day 3:**\n",
      "\n",
      "*   **Breakfast:** Scrambled eggs with whole-wheat toast.\n",
      "*   **Lunch:** Leftover Pasta with Marinara Sauce.\n",
      "*   **Dinner:** Chickpea Curry (chickpeas, canned tomatoes, onion, garlic, ginger, spices like cumin, coriander, and turmeric, and coconut milk if you like). Serve with rice.\n"
     ]
    }
   ],
   "source": [
    "print(ai_msg.content)"
   ]
  },
  {
   "cell_type": "code",
   "execution_count": 48,
   "metadata": {},
   "outputs": [
    {
     "name": "stdout",
     "output_type": "stream",
     "text": [
      "Okay, here's your shopping list, organized for efficiency:\n",
      "\n",
      "**Vegetables:**\n",
      "\n",
      "*   Banana\n",
      "*   Carrots\n",
      "*   Celery\n",
      "*   Onion\n",
      "*   Garlic\n",
      "*   Frozen Spinach\n",
      "*   Ginger\n",
      "\n",
      "**Protein:**\n",
      "\n",
      "*   Canned Tuna (in water)\n",
      "*   Eggs\n",
      "*   Greek Yogurt\n",
      "*   Red Lentils\n",
      "*   Chickpeas\n",
      "\n",
      "**Fruits:**\n",
      "\n",
      "*   Frozen Berries\n",
      "*   Canned Tomatoes\n",
      "*   Canned Crushed Tomatoes\n",
      "\n",
      "**Carbs:**\n",
      "\n",
      "*   Oatmeal\n",
      "*   Whole-wheat Bread\n",
      "*   Pasta\n",
      "*   Rice\n",
      "\n",
      "**Seasoning and Spices:**\n",
      "\n",
      "*   Cinnamon\n",
      "*   Honey\n",
      "*   Cumin\n",
      "*   Coriander\n",
      "*   Turmeric\n",
      "*   Herbs (for marinara sauce - Italian mix works well)\n",
      "\n",
      "**Other:**\n",
      "\n",
      "*   Vegetable Broth\n",
      "*   Mayonnaise\n",
      "*   Coconut Milk (optional)\n"
     ]
    }
   ],
   "source": [
    "shopping_list = [\n",
    "    (\n",
    "        \"system\",\n",
    "        \"You are an AI-based meal planner to help me, a university student, plan and cook my nutritious meals while also saving money.\" ,\n",
    "    ),\n",
    "    (\"human\", f\"Extract a shopping list from the following meal plan: {ai_msg.content} Group ingredients into sections like: Vegetables, Protein, Fruits, Carbs, Seasoning and spices, and others. Avoid duplicates and quantities unless obvious.\"),\n",
    "]\n",
    "ai_shopping_msg = llm.invoke(shopping_list)\n",
    "print(ai_shopping_msg.content)"
   ]
  },
  {
   "cell_type": "code",
   "execution_count": 49,
   "metadata": {},
   "outputs": [],
   "source": [
    "import datetime"
   ]
  },
  {
   "cell_type": "code",
   "execution_count": 102,
   "metadata": {},
   "outputs": [
    {
     "name": "stdout",
     "output_type": "stream",
     "text": [
      "04-16-2025\n"
     ]
    }
   ],
   "source": [
    "# get current date\n",
    "current_date = datetime.date.today().strftime(\"%m-%d-%Y\")\n",
    "\n",
    "print(current_date)"
   ]
  },
  {
   "cell_type": "code",
   "execution_count": 53,
   "metadata": {},
   "outputs": [],
   "source": [
    "import base64\n",
    "import os\n",
    "from google import genai\n",
    "from google.genai import types"
   ]
  },
  {
   "cell_type": "code",
   "execution_count": 66,
   "metadata": {},
   "outputs": [],
   "source": [
    "def generate(system, human):\n",
    "    client = genai.Client(\n",
    "        api_key=os.environ.get(\"api_key\"),\n",
    "    )\n",
    "\n",
    "    model = \"gemini-2.0-flash\"\n",
    "    contents = [\n",
    "        types.Content(\n",
    "            role=\"user\",\n",
    "            parts=[\n",
    "                types.Part.from_text(text=human),\n",
    "            ],\n",
    "        ),\n",
    "    ]\n",
    "    tools = [\n",
    "        types.Tool(google_search=types.GoogleSearch())\n",
    "    ]\n",
    "    generate_content_config = types.GenerateContentConfig(\n",
    "        tools=tools,\n",
    "        response_mime_type=\"text/plain\",\n",
    "        system_instruction=[\n",
    "            types.Part.from_text(text=system),\n",
    "        ],\n",
    "    )\n",
    "\n",
    "    for chunk in client.models.generate_content_stream(\n",
    "        model=model,\n",
    "        contents=contents,\n",
    "        config=generate_content_config,\n",
    "    ):\n",
    "        print(chunk.text, end=\"\")"
   ]
  },
  {
   "cell_type": "code",
   "execution_count": 68,
   "metadata": {},
   "outputs": [
    {
     "name": "stdout",
     "output_type": "stream",
     "text": [
      "Okay, I can create a 3-day Indonesian-inspired meal plan that's beginner-friendly, quick, easy, and uses shared base ingredients for bulk cooking. Here is the meal plan:\n",
      "\n",
      "To provide you with the most suitable meal plan, I need to conduct a search for recipes that align with your criteria. I will be focusing on recipes that are beginner-friendly, quick, easy, Indonesian-inspired, and allow for ingredient sharing.\n",
      "\n",
      "Here's a 3-day Indonesian-inspired meal plan focusing on shared ingredients, beginner-friendliness, and quick preparation:\n",
      "\n",
      "**Core Ingredients (to buy in bulk):**\n",
      "\n",
      "*   Rice\n",
      "*   Eggs\n",
      "*   Chicken or Tofu (for protein)\n",
      "*   Vegetables: Onion, garlic, spinach/bok choy, carrots\n",
      "*   Kecap Manis (sweet soy sauce)\n",
      "*   Soy Sauce\n",
      "*   Chili (fresh or sambal oelek)\n",
      "*   Basic spices: Turmeric powder, coriander powder, cumin powder, salt, pepper\n",
      "*   Peanut butter (for sauces)\n",
      "\n",
      "**Day 1**\n",
      "\n",
      "*   **Breakfast:** Nasi Goreng (Indonesian Fried Rice). Use leftover rice. Fry garlic and onion, add egg, chicken/tofu, spinach, and kecap manis.\n",
      "*   **Lunch:** Gado-Gado (Indonesian Salad with Peanut Sauce). Boiled eggs, tofu, blanched spinach, carrots, and peanut sauce dressing.\n",
      "*   **Dinner:** Chicken/Tofu Curry. Sauté garlic and onion, add chicken/tofu, curry powder, turmeric, coconut milk (optional), and spinach. Serve with rice.\n",
      "\n",
      "**Day 2**\n",
      "\n",
      "*   **Breakfast:** Bubur Ayam (Chicken Congee). Cook rice with chicken broth (or water with chicken bouillon). Top with shredded chicken, fried onions (optional), and a drizzle of soy sauce.\n",
      "*   **Lunch:** Mie Goreng (Indonesian Fried Noodles). Stir-fry noodles with garlic, onion, egg, chicken/tofu, carrots, and kecap manis.\n",
      "*   **Dinner:** Semur Ayam (Indonesian Chicken Stew). Braise chicken in kecap manis, soy sauce, garlic, onion, and spices (coriander, cumin). Serve with rice.\n",
      "\n",
      "**Day 3**\n",
      "\n",
      "*   **Breakfast:** Martabak Manis Mini (Sweet Pancakes). Make small pancakes. You can add chocolate sprinkles, cheese or sweet fillings you like.\n",
      "*   **Lunch:** Nasi Kuning (Turmeric Rice) with Telur Balado (Eggs in Chili Sauce). Cook rice with turmeric powder and coconut milk (optional). Boil eggs and coat them in a chili sauce (blend chili, garlic, onion, tomato).\n",
      "*   **Dinner:** Sayur Lodeh (Vegetable Stew in Coconut Milk). Sauté garlic and onion, add mixed vegetables (carrots, spinach, green beans), tofu, and coconut milk. Season with spices. Serve with rice.\n",
      "\n",
      "**Tips for Bulk Cooking and Saving Time:**\n",
      "\n",
      "*   **Cook rice in large batches:** Rice is a staple, so cook a big pot at the beginning of the week.\n",
      "*   **Prep vegetables:** Chop all your vegetables at once and store them in containers.\n",
      "*   **Cook chicken/tofu in advance:** Grill, bake, or stir-fry a large batch of your protein source and use it in different meals.\n",
      "*   **Make peanut sauce ahead:** Prepare a big batch of peanut sauce and store it in the refrigerator.\n",
      "*   **Use the same base:** Start with sautéed garlic and onion for many dishes to save time.\n",
      "\n",
      "I hope this meal plan is helpful! Let me know if you have any questions.\n"
     ]
    }
   ],
   "source": [
    "num_of_days = 3\n",
    "food_type = \"Indonesian\"\n",
    "human_meal_plan = f\"please make me a {num_of_days} days meal plan for breakfast, lunch, and dinner. I want to make beginner-friendly, quick and easy {food_type} kind of meals. Make the meals share the same base ingredients so I can cook in bulk. Note: just make me a meal plan.\"\n",
    "system_instruction = \"You are an AI-based meal planner to help me, a university student, plan and cook my nutritious meals while also saving money.\" \n",
    "meal_plan = generate(system_instruction, human_meal_plan)\n",
    "meal_plan"
   ]
  },
  {
   "cell_type": "code",
   "execution_count": 69,
   "metadata": {},
   "outputs": [
    {
     "name": "stdout",
     "output_type": "stream",
     "text": [
      "Collecting streamlit-tags\n",
      "  Downloading streamlit_tags-1.2.8-py3-none-any.whl.metadata (5.7 kB)\n",
      "Requirement already satisfied: streamlit>=0.63 in /Library/Frameworks/Python.framework/Versions/3.11/lib/python3.11/site-packages (from streamlit-tags) (1.37.1)\n",
      "Requirement already satisfied: altair<6,>=4.0 in /Library/Frameworks/Python.framework/Versions/3.11/lib/python3.11/site-packages (from streamlit>=0.63->streamlit-tags) (5.4.0)\n",
      "Requirement already satisfied: blinker<2,>=1.0.0 in /Library/Frameworks/Python.framework/Versions/3.11/lib/python3.11/site-packages (from streamlit>=0.63->streamlit-tags) (1.8.2)\n",
      "Requirement already satisfied: cachetools<6,>=4.0 in /Library/Frameworks/Python.framework/Versions/3.11/lib/python3.11/site-packages (from streamlit>=0.63->streamlit-tags) (5.4.0)\n",
      "Requirement already satisfied: click<9,>=7.0 in /Library/Frameworks/Python.framework/Versions/3.11/lib/python3.11/site-packages (from streamlit>=0.63->streamlit-tags) (8.1.7)\n",
      "Requirement already satisfied: numpy<3,>=1.20 in /Library/Frameworks/Python.framework/Versions/3.11/lib/python3.11/site-packages (from streamlit>=0.63->streamlit-tags) (1.26.4)\n",
      "Requirement already satisfied: packaging<25,>=20 in /Users/diraamanda/Library/Python/3.11/lib/python/site-packages (from streamlit>=0.63->streamlit-tags) (24.1)\n",
      "Requirement already satisfied: pandas<3,>=1.3.0 in /Library/Frameworks/Python.framework/Versions/3.11/lib/python3.11/site-packages (from streamlit>=0.63->streamlit-tags) (2.2.2)\n",
      "Requirement already satisfied: pillow<11,>=7.1.0 in /Library/Frameworks/Python.framework/Versions/3.11/lib/python3.11/site-packages (from streamlit>=0.63->streamlit-tags) (10.4.0)\n",
      "Requirement already satisfied: protobuf<6,>=3.20 in /Library/Frameworks/Python.framework/Versions/3.11/lib/python3.11/site-packages (from streamlit>=0.63->streamlit-tags) (4.25.4)\n",
      "Requirement already satisfied: pyarrow>=7.0 in /Library/Frameworks/Python.framework/Versions/3.11/lib/python3.11/site-packages (from streamlit>=0.63->streamlit-tags) (17.0.0)\n",
      "Requirement already satisfied: requests<3,>=2.27 in /Library/Frameworks/Python.framework/Versions/3.11/lib/python3.11/site-packages (from streamlit>=0.63->streamlit-tags) (2.32.3)\n",
      "Requirement already satisfied: rich<14,>=10.14.0 in /Library/Frameworks/Python.framework/Versions/3.11/lib/python3.11/site-packages (from streamlit>=0.63->streamlit-tags) (13.7.1)\n",
      "Requirement already satisfied: tenacity<9,>=8.1.0 in /Library/Frameworks/Python.framework/Versions/3.11/lib/python3.11/site-packages (from streamlit>=0.63->streamlit-tags) (8.3.0)\n",
      "Requirement already satisfied: toml<2,>=0.10.1 in /Library/Frameworks/Python.framework/Versions/3.11/lib/python3.11/site-packages (from streamlit>=0.63->streamlit-tags) (0.10.2)\n",
      "Requirement already satisfied: typing-extensions<5,>=4.3.0 in /Users/diraamanda/Library/Python/3.11/lib/python/site-packages (from streamlit>=0.63->streamlit-tags) (4.12.2)\n",
      "Requirement already satisfied: gitpython!=3.1.19,<4,>=3.0.7 in /Library/Frameworks/Python.framework/Versions/3.11/lib/python3.11/site-packages (from streamlit>=0.63->streamlit-tags) (3.1.43)\n",
      "Requirement already satisfied: pydeck<1,>=0.8.0b4 in /Library/Frameworks/Python.framework/Versions/3.11/lib/python3.11/site-packages (from streamlit>=0.63->streamlit-tags) (0.9.1)\n",
      "Requirement already satisfied: tornado<7,>=6.0.3 in /Users/diraamanda/Library/Python/3.11/lib/python/site-packages (from streamlit>=0.63->streamlit-tags) (6.4.1)\n",
      "Requirement already satisfied: jinja2 in /Library/Frameworks/Python.framework/Versions/3.11/lib/python3.11/site-packages (from altair<6,>=4.0->streamlit>=0.63->streamlit-tags) (3.1.4)\n",
      "Requirement already satisfied: jsonschema>=3.0 in /Library/Frameworks/Python.framework/Versions/3.11/lib/python3.11/site-packages (from altair<6,>=4.0->streamlit>=0.63->streamlit-tags) (4.23.0)\n",
      "Requirement already satisfied: narwhals>=1.1.0 in /Library/Frameworks/Python.framework/Versions/3.11/lib/python3.11/site-packages (from altair<6,>=4.0->streamlit>=0.63->streamlit-tags) (1.4.2)\n",
      "Requirement already satisfied: gitdb<5,>=4.0.1 in /Library/Frameworks/Python.framework/Versions/3.11/lib/python3.11/site-packages (from gitpython!=3.1.19,<4,>=3.0.7->streamlit>=0.63->streamlit-tags) (4.0.11)\n",
      "Requirement already satisfied: python-dateutil>=2.8.2 in /Users/diraamanda/Library/Python/3.11/lib/python/site-packages (from pandas<3,>=1.3.0->streamlit>=0.63->streamlit-tags) (2.9.0.post0)\n",
      "Requirement already satisfied: pytz>=2020.1 in /Library/Frameworks/Python.framework/Versions/3.11/lib/python3.11/site-packages (from pandas<3,>=1.3.0->streamlit>=0.63->streamlit-tags) (2024.1)\n",
      "Requirement already satisfied: tzdata>=2022.7 in /Library/Frameworks/Python.framework/Versions/3.11/lib/python3.11/site-packages (from pandas<3,>=1.3.0->streamlit>=0.63->streamlit-tags) (2024.1)\n",
      "Requirement already satisfied: charset-normalizer<4,>=2 in /Library/Frameworks/Python.framework/Versions/3.11/lib/python3.11/site-packages (from requests<3,>=2.27->streamlit>=0.63->streamlit-tags) (3.3.2)\n",
      "Requirement already satisfied: idna<4,>=2.5 in /Library/Frameworks/Python.framework/Versions/3.11/lib/python3.11/site-packages (from requests<3,>=2.27->streamlit>=0.63->streamlit-tags) (3.7)\n",
      "Requirement already satisfied: urllib3<3,>=1.21.1 in /Library/Frameworks/Python.framework/Versions/3.11/lib/python3.11/site-packages (from requests<3,>=2.27->streamlit>=0.63->streamlit-tags) (2.2.2)\n",
      "Requirement already satisfied: certifi>=2017.4.17 in /Library/Frameworks/Python.framework/Versions/3.11/lib/python3.11/site-packages (from requests<3,>=2.27->streamlit>=0.63->streamlit-tags) (2024.7.4)\n",
      "Requirement already satisfied: markdown-it-py>=2.2.0 in /Library/Frameworks/Python.framework/Versions/3.11/lib/python3.11/site-packages (from rich<14,>=10.14.0->streamlit>=0.63->streamlit-tags) (3.0.0)\n",
      "Requirement already satisfied: pygments<3.0.0,>=2.13.0 in /Users/diraamanda/Library/Python/3.11/lib/python/site-packages (from rich<14,>=10.14.0->streamlit>=0.63->streamlit-tags) (2.18.0)\n",
      "Requirement already satisfied: smmap<6,>=3.0.1 in /Library/Frameworks/Python.framework/Versions/3.11/lib/python3.11/site-packages (from gitdb<5,>=4.0.1->gitpython!=3.1.19,<4,>=3.0.7->streamlit>=0.63->streamlit-tags) (5.0.1)\n",
      "Requirement already satisfied: MarkupSafe>=2.0 in /Library/Frameworks/Python.framework/Versions/3.11/lib/python3.11/site-packages (from jinja2->altair<6,>=4.0->streamlit>=0.63->streamlit-tags) (2.1.5)\n",
      "Requirement already satisfied: attrs>=22.2.0 in /Library/Frameworks/Python.framework/Versions/3.11/lib/python3.11/site-packages (from jsonschema>=3.0->altair<6,>=4.0->streamlit>=0.63->streamlit-tags) (24.2.0)\n",
      "Requirement already satisfied: jsonschema-specifications>=2023.03.6 in /Library/Frameworks/Python.framework/Versions/3.11/lib/python3.11/site-packages (from jsonschema>=3.0->altair<6,>=4.0->streamlit>=0.63->streamlit-tags) (2023.12.1)\n",
      "Requirement already satisfied: referencing>=0.28.4 in /Library/Frameworks/Python.framework/Versions/3.11/lib/python3.11/site-packages (from jsonschema>=3.0->altair<6,>=4.0->streamlit>=0.63->streamlit-tags) (0.35.1)\n",
      "Requirement already satisfied: rpds-py>=0.7.1 in /Library/Frameworks/Python.framework/Versions/3.11/lib/python3.11/site-packages (from jsonschema>=3.0->altair<6,>=4.0->streamlit>=0.63->streamlit-tags) (0.20.0)\n",
      "Requirement already satisfied: mdurl~=0.1 in /Library/Frameworks/Python.framework/Versions/3.11/lib/python3.11/site-packages (from markdown-it-py>=2.2.0->rich<14,>=10.14.0->streamlit>=0.63->streamlit-tags) (0.1.2)\n",
      "Requirement already satisfied: six>=1.5 in /Users/diraamanda/Library/Python/3.11/lib/python/site-packages (from python-dateutil>=2.8.2->pandas<3,>=1.3.0->streamlit>=0.63->streamlit-tags) (1.16.0)\n",
      "Downloading streamlit_tags-1.2.8-py3-none-any.whl (2.7 MB)\n",
      "\u001b[2K   \u001b[90m━━━━━━━━━━━━━━━━━━━━━━━━━━━━━━━━━━━━━━━━\u001b[0m \u001b[32m2.7/2.7 MB\u001b[0m \u001b[31m5.9 MB/s\u001b[0m eta \u001b[36m0:00:00\u001b[0ma \u001b[36m0:00:01\u001b[0m\n",
      "\u001b[?25hInstalling collected packages: streamlit-tags\n",
      "Successfully installed streamlit-tags-1.2.8\n",
      "\n",
      "\u001b[1m[\u001b[0m\u001b[34;49mnotice\u001b[0m\u001b[1;39;49m]\u001b[0m\u001b[39;49m A new release of pip is available: \u001b[0m\u001b[31;49m24.3.1\u001b[0m\u001b[39;49m -> \u001b[0m\u001b[32;49m25.0.1\u001b[0m\n",
      "\u001b[1m[\u001b[0m\u001b[34;49mnotice\u001b[0m\u001b[1;39;49m]\u001b[0m\u001b[39;49m To update, run: \u001b[0m\u001b[32;49mpip install --upgrade pip\u001b[0m\n",
      "Note: you may need to restart the kernel to use updated packages.\n"
     ]
    }
   ],
   "source": [
    "%pip install streamlit-tags"
   ]
  },
  {
   "cell_type": "code",
   "execution_count": 1,
   "metadata": {},
   "outputs": [],
   "source": [
    "import sqlite3"
   ]
  },
  {
   "cell_type": "code",
   "execution_count": 4,
   "metadata": {},
   "outputs": [
    {
     "name": "stdout",
     "output_type": "stream",
     "text": [
      "Connected successfully!\n"
     ]
    }
   ],
   "source": [
    "con = sqlite3.connect(\"meal_planner.db\")\n",
    "cur = con.cursor()\n",
    "print(\"Connected successfully!\")"
   ]
  },
  {
   "cell_type": "code",
   "execution_count": 3,
   "metadata": {},
   "outputs": [],
   "source": [
    "cur.execute('''\n",
    "\n",
    "DROP TABLE 'meal_planner'\n",
    "\n",
    "''')\n",
    "\n",
    "con.commit()"
   ]
  },
  {
   "cell_type": "code",
   "execution_count": 6,
   "metadata": {},
   "outputs": [],
   "source": [
    "cur.execute('''\n",
    "\n",
    "CREATE TABLE meal_planner (\n",
    "        id INTEGER PRIMARY KEY AUTOINCREMENT,\n",
    "        date TEXT,\n",
    "        meal_plan TEXT,\n",
    "        shopping_list TEXT\n",
    "            )\n",
    "\n",
    "''')\n",
    "\n",
    "con.commit()"
   ]
  },
  {
   "cell_type": "code",
   "execution_count": 7,
   "metadata": {},
   "outputs": [],
   "source": [
    "cur.execute(\"SELECT * FROM meal_planner\").fetchone()"
   ]
  },
  {
   "cell_type": "code",
   "execution_count": 84,
   "metadata": {},
   "outputs": [],
   "source": [
    "cur.execute(\"INSERT INTO meal_planner (date, meal_plan, shopping_list) VALUES (?, ?, ?)\", (\"2025-04-16\", \"bulgogi\", \"beef sauce\"))\n",
    "con.commit()"
   ]
  },
  {
   "cell_type": "code",
   "execution_count": 91,
   "metadata": {},
   "outputs": [
    {
     "data": {
      "text/plain": [
       "(1, '2025-04-16', 'bulgogi', 'beef sauce')"
      ]
     },
     "execution_count": 91,
     "metadata": {},
     "output_type": "execute_result"
    }
   ],
   "source": [
    "cur.execute(\"SELECT * FROM meal_planner\").fetchone()"
   ]
  },
  {
   "cell_type": "code",
   "execution_count": 98,
   "metadata": {},
   "outputs": [
    {
     "data": {
      "text/plain": [
       "'The capital city of South Australia is **Adelaide**.'"
      ]
     },
     "execution_count": 98,
     "metadata": {},
     "output_type": "execute_result"
    }
   ],
   "source": [
    "messages = [\n",
    "(\n",
    "    \"system\",\n",
    "    {system_instruction},\n",
    "),\n",
    "(\"human\", \"The capital city of South Australia\"),\n",
    "]\n",
    "\n",
    "ai_msg = llm.invoke(messages)\n",
    "ai_msg.content"
   ]
  },
  {
   "cell_type": "code",
   "execution_count": 101,
   "metadata": {},
   "outputs": [
    {
     "data": {
      "text/plain": [
       "'04_15_2025'"
      ]
     },
     "execution_count": 101,
     "metadata": {},
     "output_type": "execute_result"
    }
   ],
   "source": [
    "current_date"
   ]
  },
  {
   "cell_type": "code",
   "execution_count": 103,
   "metadata": {},
   "outputs": [],
   "source": [
    "cur.execute(\n",
    "                \"INSERT INTO meal_planner (date, meal_plan, shopping_list) VALUES (?, ?, ?)\",\n",
    "                (current_date, ai_msg.content, \"ABC\")\n",
    "            )\n",
    "con.commit()"
   ]
  },
  {
   "cell_type": "code",
   "execution_count": 123,
   "metadata": {},
   "outputs": [
    {
     "data": {
      "text/plain": [
       "[(1,\n",
       "  '04_16_2025',\n",
       "  'Okay, here is a 5-day meal plan focusing on beginner-friendly, quick & easy Indonesian and Japanese-inspired meals using shared base ingredients for bulk cooking.\\n\\n**Shared Base Ingredients (Cook in bulk at the start of the week):**\\n\\n*   **Cooked Rice:** Essential for both cuisines. Make a large batch.\\n*   **Chicken/Tofu:** Dice and marinate a large batch with soy sauce, ginger, garlic, and a touch of sesame oil. Cook it all at once.\\n*   **Mixed Vegetables:** (Carrots, Cabbage, Bean Sprouts, Spinach) - Chop and store separately. These can be used in stir-fries, soups, and as sides.\\n*   **Dashi Broth:** Prepare a large batch using dashi powder or kombu and bonito flakes. This is the base for many Japanese soups and sauces.\\n\\n**Meal Plan:**\\n\\n**Day 1:**\\n\\n*   **Breakfast:** Japanese Rice Porridge (Okayu) with leftover cooked rice, a splash of soy sauce, and a soft boiled egg.\\n*   **Lunch:** Nasi Goreng (Indonesian Fried Rice) with pre-cooked chicken/tofu, mixed vegetables, and a fried egg on top.\\n*   **Dinner:** Miso Soup with tofu, wakame seaweed, and green onions, served with a small portion of leftover Nasi Goreng.\\n\\n**Day 2:**\\n\\n*   **Breakfast:** Onigiri (Japanese Rice Balls) filled with leftover cooked chicken/tofu and a sprinkle of furikake.\\n*   **Lunch:** Chicken/Tofu Yakisoba: stir-fried noodles with chicken/tofu, mixed vegetables, and yakisoba sauce (store-bought or homemade with soy sauce, oyster sauce, ketchup, Worcestershire sauce, and sugar).\\n*   **Dinner:** Sayur Sop (Indonesian Vegetable Soup) with added chicken/tofu. Serve with rice.\\n\\n**Day 3:**\\n\\n*   **Breakfast:** Tamago Kake Gohan (Japanese Egg Rice): Cooked rice topped with a raw egg, a splash of soy sauce, and a sprinkle of green onions.\\n*   **Lunch:** Gado-Gado (Indonesian Salad with Peanut Sauce): Steamed or blanched mixed vegetables, tofu, and a hard-boiled egg, topped with peanut sauce (store-bought or homemade).\\n*   **Dinner:** Oyakodon (Japanese Chicken and Egg Rice Bowl): Simmered chicken/tofu and onions in a sweet and savory sauce (soy sauce, mirin, dashi) and poured over rice with a partially cooked egg.\\n\\n**Day 4:**\\n\\n*   **Breakfast:** Leftover Onigiri.\\n*   **Lunch:** Mie Goreng (Indonesian Fried Noodles) with pre-cooked chicken/tofu and mixed vegetables.\\n*   **Dinner:** Clear Soup with mixed vegetable and chicken/tofu. Serve with rice\\n\\n**Day 5:**\\n\\n*   **Breakfast:** Okayu with a sprinkle of furikake.\\n*   **Lunch:** Leftover Mie Goreng.\\n*   **Dinner:** Japanese Curry Rice: Store-bought Japanese curry roux simmered with pre-cooked chicken/tofu and mixed vegetables. Serve over rice.\\n\\n**Important Considerations:**\\n\\n*   **Seasoning:** Keep soy sauce, sesame oil, ginger, garlic, dashi powder, and Indonesian sweet soy sauce (kecap manis) on hand.\\n*   **Spice:** Add chili flakes or sambal oelek (Indonesian chili paste) for heat.\\n*   **Flexibility:** Adjust portion sizes based on your appetite. Swap ingredients based on availability and preference.\\n*   **Storage:** Store cooked ingredients properly in the refrigerator to maintain freshness and prevent spoilage.\\n*   **Budget:** Compare prices of ingredients at different stores to find the best deals. Consider buying frozen vegetables to save money.\\n*   **Enjoy!** These are just suggestions, experiment and find what you like best!\\n\\nEnjoy your cooking and eating! Let me know if you have any other questions.',\n",
       "  'Okay, here is your shopping list based on the 5-day meal plan, designed for one person, focusing on simplicity, cost-effectiveness, and minimal waste:\\n\\n**Vegetables:**\\n\\n1.  Carrots\\n2.  Cabbage\\n3.  Bean Sprouts\\n4.  Spinach\\n5.  Green Onions\\n6.  Onions\\n7. Wakame Seaweed\\n8. Kombu (Optional, for Dashi)\\n\\n**Protein:**\\n\\n1.  Chicken or Tofu (approx. 500g)\\n2.  Eggs (6-8)\\n3. Bonito Flakes (Optional, for Dashi)\\n\\n**Fruits:**\\n\\n1.  Bananas (for quick snack)\\n2.  Apples (for quick snack)\\n\\n**Carbs:**\\n\\n1.  Rice (1-2 kg)\\n2.  Yakisoba Noodles (1 package)\\n3.  Mie Goreng Noodles (1 package)\\n\\n**Seasoning and Spices:**\\n\\n1.  Soy Sauce\\n2.  Sesame Oil\\n3.  Ginger\\n4.  Garlic\\n5.  Dashi Powder\\n6. Kecap Manis (Indonesian Sweet Soy Sauce)\\n7. Furikake\\n8. Japanese Curry Roux (1 box, small size)\\n\\n**Other:**\\n\\n1.  Peanut Sauce (store-bought or ingredients for homemade)\\n2.  Yakisoba Sauce (store-bought or ingredients for homemade)'),\n",
       " (2,\n",
       "  '04_16_2025',\n",
       "  \"Okay, here's a 5-day meal plan incorporating Indonesian and Japanese flavors, designed to be beginner-friendly, quick, and use shared base ingredients for bulk cooking.  I'm focusing on simplicity and minimizing ingredients to help you save money.\\n\\n**Shared Base Ingredients (Buy in Bulk):**\\n\\n*   **Rice:**  A staple for both cuisines.\\n*   **Eggs:** Versatile protein source.\\n*   **Chicken Thighs:**  More flavorful and affordable than chicken breasts.\\n*   **Soy Sauce:**  Essential for both Indonesian and Japanese flavors.\\n*   **Garlic:**  Aromatic base for many dishes.\\n*   **Ginger:** Adds warmth and depth of flavor.\\n*   **Onion:** Another aromatic base.\\n*   **Vegetable Oil:** For cooking.\\n*   **Frozen Mixed Vegetables (Carrots, Peas, Corn):** Affordable and convenient.\\n*   **Scallions (Green Onions):** For garnish and flavor.\\n\\n**Meal Plan:**\\n\\n**Day 1:**\\n\\n*   **Breakfast:** Tamago Kake Gohan (Japanese Egg Rice) - Cooked rice topped with a raw egg and a drizzle of soy sauce. Garnish with scallions.\\n*   **Lunch:** Nasi Goreng (Indonesian Fried Rice) - Fried rice with leftover cooked chicken, garlic, onion, soy sauce, and frozen mixed vegetables. Top with a fried egg.\\n*   **Dinner:** Oyakodon (Japanese Chicken and Egg Rice Bowl) - Simmered chicken, onion, and egg in a sweet soy sauce broth, served over rice.\\n\\n**Day 2:**\\n\\n*   **Breakfast:**  Scrambled Eggs with Soy Sauce and Rice - Simple scrambled eggs seasoned with soy sauce, served with a side of rice.\\n*   **Lunch:** Chicken & Veggie Fried Rice - Fry leftover rice with chicken, frozen mixed veggies, garlic, and soy sauce.\\n*   **Dinner:** Indonesian Chicken Soup (Soto Ayam inspired) - Simmer chicken thighs with garlic, ginger, and onion. Shred the chicken and serve in the broth with rice and scallions.\\n\\n**Day 3:**\\n\\n*   **Breakfast:** Tamago Kake Gohan (Japanese Egg Rice)\\n*   **Lunch:** Oyakodon Leftovers\\n*   **Dinner:** Nasi Goreng (Indonesian Fried Rice) with Egg - Fried rice with chicken, garlic, onion, soy sauce, and frozen mixed vegetables. Top with a fried egg.\\n\\n**Day 4:**\\n\\n*   **Breakfast:** Scrambled Eggs with Soy Sauce and Rice\\n*   **Lunch:** Indonesian Chicken Soup Leftovers\\n*   **Dinner:** Chicken Teriyaki Rice Bowl (Simplified) - Pan-fried chicken thighs with a simple teriyaki sauce (soy sauce, a little sugar or honey, and ginger), served over rice with frozen mixed vegetables.\\n\\n**Day 5:**\\n\\n*   **Breakfast:** Tamago Kake Gohan (Japanese Egg Rice)\\n*   **Lunch:** Chicken Teriyaki Rice Bowl Leftovers\\n*   **Dinner:** Nasi Goreng (Indonesian Fried Rice) with Egg\",\n",
       "  \"Okay, here's your simplified shopping list, grouped by category, designed to be budget-friendly and efficient for a university student following your 5-day meal plan.\\n\\n**Vegetables:**\\n\\n*   Onion (1 large)\\n*   Garlic (1 bulb)\\n*   Ginger (small piece)\\n*   Scallions (1 bunch)\\n*   Frozen Mixed Vegetables (1 bag)\\n\\n**Protein:**\\n\\n*   Chicken Thighs (5-6)\\n*   Eggs (1 dozen)\\n\\n**Fruits:**\\n\\n*   Bananas (5)\\n\\n**Carbs:**\\n\\n*   Rice (small bag)\\n\\n**Seasoning & Spices:**\\n\\n*   Soy Sauce (small bottle)\\n*   Vegetable Oil\\n*   Honey\\n\\n**Snacks:**\\n\\n*   Peanut Butter\\n*   Bread\"),\n",
       " (3,\n",
       "  '04_16_2025',\n",
       "  \"Base Ingredients to Buy in Bulk:\\n\\n Protein: Chicken Thighs (or Tofu for vegetarian option), Eggs\\n Vegetables: Cabbage, Carrots, Onion, Garlic, Ginger, Green Onions (Scallions)\\n Grains: Rice, Noodles (Egg noodles or rice noodles)\\n Sauces/Spices: Soy Sauce, Sesame Oil, Chili Garlic Sauce (Sambal Oelek), Oyster Sauce (optional), Turmeric Powder, Ground Coriander, Salt, Pepper, Sugar\\n Other: Vegetable Oil\\n\\nMeal Plan:\\n\\nDay 1:\\n\\n Breakfast: Scrambled Eggs with Chopped Green Onions and a side of rice.\\n Lunch: Indonesian Chicken Noodle Soup (Soto Ayam) - Use shredded chicken from bulk cooked chicken, broth, noodles, cabbage, and boiled egg.\\n Dinner: Simple Chicken and Cabbage Stir-fry with Rice - Chicken, cabbage, carrots, soy sauce, ginger, garlic.\\n\\nDay 2:\\n\\n Breakfast: Rice Porridge with shredded chicken and green onions.\\n Lunch: Leftover Chicken and Cabbage Stir-fry with Rice.\\n Dinner: Chinese Egg Fried Rice - Rice, eggs, carrots, peas (frozen), soy sauce, green onions.\\n\\nDay 3:\\n\\n Breakfast: Omelette with chopped carrots and green onions.\\n Lunch: Noodle Soup with Egg - Broth, noodles, egg, carrots and cabbage.\\n Dinner: Indonesian Chicken Curry (Opor Ayam) with Rice - Use bulk cooked chicken, coconut milk (optional), turmeric, coriander, garlic, onion.\\n\\nDay 4:\\n\\n Breakfast: Leftover Indonesian Chicken Curry (Opor Ayam) with Rice.\\n Lunch: Quick Chicken and Rice Noodle Stir-fry - Rice noodles, shredded chicken, carrots, soy sauce, sesame oil.\\n Dinner: Chinese Cabbage and Egg Drop Soup with Rice - Cabbage, egg, broth, sesame oil, green onions.\\n\\nDay 5:\\n\\n Breakfast: Scrambled Eggs with Chili Garlic Sauce and rice.\\n Lunch: Leftover Chinese Cabbage and Egg Drop Soup with Rice\\n Dinner: Indonesian Fried Rice (Nasi Goreng) - Rice, egg, chicken (optional), carrots, cabbage, soy sauce, chili garlic sauce.\\n\\nEnjoy your cooking! Let me know if you'd like detailed recipes for any of these meals.\",\n",
       "  'Shopping List:\\n\\nVegetables:\\n\\n Cabbage (1/2 head)\\n Carrots (3-4 medium)\\n Onion (1-2 medium)\\n Garlic (1 head)\\n Ginger (small piece)\\n Green Onions (1 bunch)\\n Frozen Peas (small bag)\\n\\nProtein:\\n\\n Chicken Thighs (2-3) Or Tofu (1 block)\\n Eggs (6)\\n\\nFruits:\\n\\n Apples (2)\\n Banana (3)\\n Orange (2)\\n\\nCarbs:\\n\\n Rice (1-2 lb bag)\\n Egg Noodles or Rice Noodles (small package)\\n\\nSeasoning and Spices:\\n\\n Soy Sauce\\n Sesame Oil\\n Chili Garlic Sauce (Sambal Oelek)\\n Oyster Sauce (optional)\\n Turmeric Powder\\n Ground Coriander\\n Salt\\n Pepper\\n Sugar\\n\\nSnacks:\\n\\n Peanut butter\\n Crackers\\n Yogurt\\n\\nOther:\\n\\n Vegetable Oil\\n Broth (chicken or vegetable)')]"
      ]
     },
     "execution_count": 123,
     "metadata": {},
     "output_type": "execute_result"
    }
   ],
   "source": [
    "cur.execute(\"SELECT * FROM meal_planner\").fetchall()"
   ]
  },
  {
   "cell_type": "code",
   "execution_count": 126,
   "metadata": {},
   "outputs": [
    {
     "data": {
      "text/plain": [
       "[(\"Okay, here's your shopping list, designed for one person, focusing on the core ingredients for your meal plan and keeping cost-effectiveness in mind:\\n\\n**Vegetables:**\\n\\n*   Green Onions\\n*   Frozen Vegetables (Edamame, Peas, Carrots, Broccoli mix)\\n*   Cabbage\\n*   Ginger\\n*   Garlic\\n\\n**Protein:**\\n\\n*   Eggs (6-12)\\n*   Tofu (1 block)\\n*   Chicken Breast (2-3)\\n\\n**Carbs:**\\n\\n*   Rice (1-2 lb bag)\\n*   Yakisoba Noodles\\n\\n**Seasoning and Spices:**\\n\\n*   Soy Sauce\\n*   Sesame Oil\\n*   Curry Powder\\n*   Miso Paste\\n*   Panko Breadcrumbs\\n\\n**Fruits:**\\n\\n*   Apples (2-3)\\n*   Bananas (3-4)\\n\\n**Snacks:**\\n\\n*   Seaweed Snacks\",)]"
      ]
     },
     "execution_count": 126,
     "metadata": {},
     "output_type": "execute_result"
    }
   ],
   "source": [
    "cur.execute(\"SELECT shopping_list FROM meal_planner\").fetchall()"
   ]
  },
  {
   "cell_type": "code",
   "execution_count": 127,
   "metadata": {},
   "outputs": [],
   "source": [
    "rows = cur.execute(\"SELECT * FROM meal_planner ORDER BY id DESC\").fetchall()"
   ]
  },
  {
   "cell_type": "code",
   "execution_count": 129,
   "metadata": {},
   "outputs": [
    {
     "data": {
      "text/plain": [
       "[(1,\n",
       "  '16 April 2025',\n",
       "  'Okay, here is a 5-day meal plan featuring quick, easy, and beginner-friendly Indonesian and Japanese-inspired dishes, designed to share base ingredients for bulk cooking and cost savings.\\n\\n**Shared Base Ingredients:**\\n\\n*   **Rice:** Essential for many meals. Cook a large batch at the start of the week.\\n*   **Eggs:** Versatile protein source.\\n*   **Tofu:** Plant-based protein option, easily adaptable to different flavors.\\n*   **Soy Sauce:** A staple in both cuisines.\\n*   **Sesame Oil:** Adds flavor and aroma.\\n*   **Ginger:** For a flavourful and aromatic base.\\n*   **Garlic:** For a flavourful and aromatic base.\\n*   **Green Onions:** Garnish and flavor.\\n*   **Frozen Vegetables (Edamame, Peas, Carrots, Broccoli):** Affordable and convenient way to add nutrients.\\n\\n**Meal Plan:**\\n\\n**Day 1:**\\n\\n*   **Breakfast:** Nasi Goreng (Indonesian Fried Rice) with Egg (Use leftover rice, soy sauce, garlic, green onions, and a fried egg).\\n*   **Lunch:** Japanese Tofu Bowl (Rice, pan-fried tofu with soy sauce and sesame oil, edamame, and a sprinkle of sesame seeds).\\n*   **Dinner:** Chicken Teriyaki with Rice and Stir-fried Vegetables (Use soy sauce, ginger, garlic for teriyaki sauce. Add frozen vegetables to the rice)\\n\\n**Day 2:**\\n\\n*   **Breakfast:** Tamago Kake Gohan (Japanese Egg Rice) (Rice, raw egg, soy sauce, and a sprinkle of green onions).\\n*   **Lunch:** Nasi Goreng Leftovers\\n*   **Dinner:** Indonesian Tofu Curry (Tofu, coconut milk, curry powder, frozen vegetables, served with rice)\\n\\n**Day 3:**\\n\\n*   **Breakfast:** Scrambled Eggs with Soy Sauce and Green Onions (Add a side of rice if desired).\\n*   **Lunch:** Japanese Rice Ball (Onigiri) with Tofu Filling (Rice shaped into balls with a filling of mashed tofu seasoned with soy sauce and sesame oil).\\n*   **Dinner:** Yakisoba Noodles (Stir-fried noodles with soy sauce, vegetables, and a protein of your choice)\\n\\n**Day 4:**\\n\\n*   **Breakfast:** Rice Porridge with Soy Sauce and Egg (Cook rice with extra water until soft. Top with soy sauce, a soft-boiled egg, and green onions).\\n*   **Lunch:** Tofu Curry Leftovers\\n*   **Dinner:** Chicken Katsu with Rice and Cabbage Salad (Use panko breadcrumbs for the chicken. Serve with rice and a simple cabbage salad with sesame dressing).\\n\\n**Day 5:**\\n\\n*   **Breakfast:** Nasi Goreng with Tofu (Substitute tofu for meat)\\n*   **Lunch:** Yakisoba leftovers\\n*   **Dinner:** Miso Soup with Tofu and Seaweed (Instant miso paste, tofu cubes, dried seaweed, and green onions). Serve with a side of rice.\\n\\nEnjoy your cooking!',\n",
       "  \"Okay, here's your shopping list, designed for one person, focusing on the core ingredients for your meal plan and keeping cost-effectiveness in mind:\\n\\n**Vegetables:**\\n\\n*   Green Onions\\n*   Frozen Vegetables (Edamame, Peas, Carrots, Broccoli mix)\\n*   Cabbage\\n*   Ginger\\n*   Garlic\\n\\n**Protein:**\\n\\n*   Eggs (6-12)\\n*   Tofu (1 block)\\n*   Chicken Breast (2-3)\\n\\n**Carbs:**\\n\\n*   Rice (1-2 lb bag)\\n*   Yakisoba Noodles\\n\\n**Seasoning and Spices:**\\n\\n*   Soy Sauce\\n*   Sesame Oil\\n*   Curry Powder\\n*   Miso Paste\\n*   Panko Breadcrumbs\\n\\n**Fruits:**\\n\\n*   Apples (2-3)\\n*   Bananas (3-4)\\n\\n**Snacks:**\\n\\n*   Seaweed Snacks\")]"
      ]
     },
     "execution_count": 129,
     "metadata": {},
     "output_type": "execute_result"
    }
   ],
   "source": [
    "rows"
   ]
  },
  {
   "cell_type": "code",
   "execution_count": 131,
   "metadata": {},
   "outputs": [
    {
     "name": "stdout",
     "output_type": "stream",
     "text": [
      "16 April 2025\n"
     ]
    }
   ],
   "source": [
    "for row in rows:\n",
    "    print(row[1])"
   ]
  },
  {
   "cell_type": "code",
   "execution_count": null,
   "metadata": {},
   "outputs": [],
   "source": []
  }
 ],
 "metadata": {
  "kernelspec": {
   "display_name": "Python 3",
   "language": "python",
   "name": "python3"
  },
  "language_info": {
   "codemirror_mode": {
    "name": "ipython",
    "version": 3
   },
   "file_extension": ".py",
   "mimetype": "text/x-python",
   "name": "python",
   "nbconvert_exporter": "python",
   "pygments_lexer": "ipython3",
   "version": "3.13.4"
  }
 },
 "nbformat": 4,
 "nbformat_minor": 2
}
